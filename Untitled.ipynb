{
 "cells": [
  {
   "cell_type": "code",
   "execution_count": 20,
   "metadata": {
    "collapsed": false
   },
   "outputs": [
    {
     "name": "stdout",
     "output_type": "stream",
     "text": [
      "['(37.82755254, -122.2684935', '37.78474754, -122.2412336', '37.78474754, -122.2412336)']\n"
     ]
    }
   ],
   "source": [
    "string = '(37.82755254, -122.2684935),(37.78474754, -122.2412336),(37.78474754, -122.2412336)'\n",
    "string = string.split(\"),(\")\n",
    "print string"
   ]
  },
  {
   "cell_type": "code",
   "execution_count": 21,
   "metadata": {
    "collapsed": false
   },
   "outputs": [
    {
     "name": "stdout",
     "output_type": "stream",
     "text": [
      "[['37.82755254', ' -122.2684935'], ['37.78474754', ' -122.2412336'], ['37.78474754', ' -122.2412336']]\n"
     ]
    }
   ],
   "source": [
    "for i in range(len(string)):\n",
    "    string[i]=string[i].strip(')').strip('(')\n",
    "    string[i]=string[i].split(',')\n",
    "print string"
   ]
  },
  {
   "cell_type": "code",
   "execution_count": null,
   "metadata": {
    "collapsed": true
   },
   "outputs": [],
   "source": []
  }
 ],
 "metadata": {
  "kernelspec": {
   "display_name": "Python 2",
   "language": "python",
   "name": "python2"
  },
  "language_info": {
   "codemirror_mode": {
    "name": "ipython",
    "version": 2
   },
   "file_extension": ".py",
   "mimetype": "text/x-python",
   "name": "python",
   "nbconvert_exporter": "python",
   "pygments_lexer": "ipython2",
   "version": "2.7.10"
  }
 },
 "nbformat": 4,
 "nbformat_minor": 0
}
